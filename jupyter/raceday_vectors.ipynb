{
 "cells": [
  {
   "cell_type": "markdown",
   "source": [
    "# Vector Embedding"
   ],
   "metadata": {
    "collapsed": false
   },
   "id": "f0f5e000fa46ed37"
  },
  {
   "cell_type": "code",
   "outputs": [
    {
     "name": "stdout",
     "output_type": "stream",
     "text": [
      "Requirement already satisfied: pip in ./.venv/lib/python3.10/site-packages (23.2.1)\r\n",
      "Collecting pip\r\n",
      "  Obtaining dependency information for pip from https://files.pythonhosted.org/packages/15/aa/3f4c7bcee2057a76562a5b33ecbd199be08cdb4443a02e26bd2c3cf6fc39/pip-23.3.2-py3-none-any.whl.metadata\r\n",
      "  Downloading pip-23.3.2-py3-none-any.whl.metadata (3.5 kB)\r\n",
      "Downloading pip-23.3.2-py3-none-any.whl (2.1 MB)\r\n",
      "\u001B[2K   \u001B[90m━━━━━━━━━━━━━━━━━━━━━━━━━━━━━━━━━━━━━━━━\u001B[0m \u001B[32m2.1/2.1 MB\u001B[0m \u001B[31m17.3 MB/s\u001B[0m eta \u001B[36m0:00:00\u001B[0m00:01\u001B[0m00:01\u001B[0m\r\n",
      "\u001B[?25hInstalling collected packages: pip\r\n",
      "  Attempting uninstall: pip\r\n",
      "    Found existing installation: pip 23.2.1\r\n",
      "    Uninstalling pip-23.2.1:\r\n",
      "      Successfully uninstalled pip-23.2.1\r\n",
      "Successfully installed pip-23.3.2\r\n",
      "Note: you may need to restart the kernel to use updated packages.\n"
     ]
    }
   ],
   "source": [
    "pip install --upgrade pip"
   ],
   "metadata": {
    "collapsed": false,
    "ExecuteTime": {
     "end_time": "2024-01-26T17:39:00.522937Z",
     "start_time": "2024-01-26T17:38:54.381432Z"
    }
   },
   "id": "a14369458c5212b3",
   "execution_count": 6
  },
  {
   "cell_type": "code",
   "outputs": [
    {
     "name": "stdout",
     "output_type": "stream",
     "text": [
      "Collecting gpudb==7.2.0.0b0\r\n",
      "  Obtaining dependency information for gpudb==7.2.0.0b0 from https://files.pythonhosted.org/packages/9b/8b/3d49f131aff8b9ee3d4f7f25000016a803d78ac381fc5ded8b7ac966ec83/gpudb-7.2.0.0b0-cp310-cp310-macosx_10_9_universal2.whl.metadata\r\n",
      "  Downloading gpudb-7.2.0.0b0-cp310-cp310-macosx_10_9_universal2.whl.metadata (358 bytes)\r\n",
      "Collecting pycatch22\r\n",
      "  Using cached pycatch22-0.4.4-cp310-cp310-macosx_10_9_universal2.whl\r\n",
      "Collecting gradio\r\n",
      "  Obtaining dependency information for gradio from https://files.pythonhosted.org/packages/f1/2e/da68dbda9b0b3d982749857c3a4ef8542478dc421ed8d1c5c6e5a1da915a/gradio-4.16.0-py3-none-any.whl.metadata\r\n",
      "  Downloading gradio-4.16.0-py3-none-any.whl.metadata (15 kB)\r\n",
      "Collecting pandas\r\n",
      "  Obtaining dependency information for pandas from https://files.pythonhosted.org/packages/88/8a/76a32ba459b4c376cc3780dca0f600bbbb63b3610249a068f7eb20991ee3/pandas-2.2.0-cp310-cp310-macosx_10_9_x86_64.whl.metadata\r\n",
      "  Using cached pandas-2.2.0-cp310-cp310-macosx_10_9_x86_64.whl.metadata (19 kB)\r\n",
      "Collecting pyarrow\r\n",
      "  Obtaining dependency information for pyarrow from https://files.pythonhosted.org/packages/33/de/8d8b373d0af779b5866f88ce2ba3774c7c36f712a1d00ed3251263325a2d/pyarrow-15.0.0-cp310-cp310-macosx_10_15_x86_64.whl.metadata\r\n",
      "  Downloading pyarrow-15.0.0-cp310-cp310-macosx_10_15_x86_64.whl.metadata (3.0 kB)\r\n",
      "Collecting typeguard\r\n",
      "  Obtaining dependency information for typeguard from https://files.pythonhosted.org/packages/18/01/5fc45558268ced46d86292763477996a3cdd505567cd590a688e8cdc386e/typeguard-4.1.5-py3-none-any.whl.metadata\r\n",
      "  Downloading typeguard-4.1.5-py3-none-any.whl.metadata (3.7 kB)\r\n",
      "Collecting future (from gpudb==7.2.0.0b0)\r\n",
      "  Using cached future-0.18.3-py3-none-any.whl\r\n",
      "Requirement already satisfied: pyzmq in ./.venv/lib/python3.10/site-packages (from gpudb==7.2.0.0b0) (25.1.2)\r\n",
      "Collecting aiofiles<24.0,>=22.0 (from gradio)\r\n",
      "  Obtaining dependency information for aiofiles<24.0,>=22.0 from https://files.pythonhosted.org/packages/c5/19/5af6804c4cc0fed83f47bff6e413a98a36618e7d40185cd36e69737f3b0e/aiofiles-23.2.1-py3-none-any.whl.metadata\r\n",
      "  Using cached aiofiles-23.2.1-py3-none-any.whl.metadata (9.7 kB)\r\n",
      "Collecting altair<6.0,>=4.2.0 (from gradio)\r\n",
      "  Obtaining dependency information for altair<6.0,>=4.2.0 from https://files.pythonhosted.org/packages/c5/e4/7fcceef127badbb0d644d730d992410e4f3799b295c9964a172f92a469c7/altair-5.2.0-py3-none-any.whl.metadata\r\n",
      "  Using cached altair-5.2.0-py3-none-any.whl.metadata (8.7 kB)\r\n",
      "Collecting fastapi (from gradio)\r\n",
      "  Obtaining dependency information for fastapi from https://files.pythonhosted.org/packages/e5/80/ddbf524c6169072ab5e8dd4e106d4eb482bf920da1996dde9f308f90aa8c/fastapi-0.109.0-py3-none-any.whl.metadata\r\n",
      "  Using cached fastapi-0.109.0-py3-none-any.whl.metadata (24 kB)\r\n",
      "Collecting ffmpy (from gradio)\r\n",
      "  Using cached ffmpy-0.3.1-py3-none-any.whl\r\n",
      "Collecting gradio-client==0.8.1 (from gradio)\r\n",
      "  Obtaining dependency information for gradio-client==0.8.1 from https://files.pythonhosted.org/packages/55/25/caf754ea7959ad12bdb08aabcda88c4092ce0210004f4f81f58c9965c871/gradio_client-0.8.1-py3-none-any.whl.metadata\r\n",
      "  Using cached gradio_client-0.8.1-py3-none-any.whl.metadata (7.1 kB)\r\n",
      "Collecting httpx (from gradio)\r\n",
      "  Obtaining dependency information for httpx from https://files.pythonhosted.org/packages/39/9b/4937d841aee9c2c8102d9a4eeb800c7dad25386caabb4a1bf5010df81a57/httpx-0.26.0-py3-none-any.whl.metadata\r\n",
      "  Using cached httpx-0.26.0-py3-none-any.whl.metadata (7.6 kB)\r\n",
      "Collecting huggingface-hub>=0.19.3 (from gradio)\r\n",
      "  Obtaining dependency information for huggingface-hub>=0.19.3 from https://files.pythonhosted.org/packages/28/03/7d3c7153113ec59cfb31e3b8ee773f5f420a0dd7d26d40442542b96675c3/huggingface_hub-0.20.3-py3-none-any.whl.metadata\r\n",
      "  Using cached huggingface_hub-0.20.3-py3-none-any.whl.metadata (12 kB)\r\n",
      "Collecting importlib-resources<7.0,>=1.3 (from gradio)\r\n",
      "  Obtaining dependency information for importlib-resources<7.0,>=1.3 from https://files.pythonhosted.org/packages/93/e8/facde510585869b5ec694e8e0363ffe4eba067cb357a8398a55f6a1f8023/importlib_resources-6.1.1-py3-none-any.whl.metadata\r\n",
      "  Using cached importlib_resources-6.1.1-py3-none-any.whl.metadata (4.1 kB)\r\n",
      "Requirement already satisfied: jinja2<4.0 in ./.venv/lib/python3.10/site-packages (from gradio) (3.1.3)\r\n",
      "Requirement already satisfied: markupsafe~=2.0 in ./.venv/lib/python3.10/site-packages (from gradio) (2.1.4)\r\n",
      "Collecting matplotlib~=3.0 (from gradio)\r\n",
      "  Obtaining dependency information for matplotlib~=3.0 from https://files.pythonhosted.org/packages/92/d0/fc5f6796a1956f5b9a33555611d01a3cec038f000c3d70ecb051b1631ac4/matplotlib-3.8.2-cp310-cp310-macosx_10_12_x86_64.whl.metadata\r\n",
      "  Using cached matplotlib-3.8.2-cp310-cp310-macosx_10_12_x86_64.whl.metadata (5.8 kB)\r\n",
      "Collecting numpy~=1.0 (from gradio)\r\n",
      "  Obtaining dependency information for numpy~=1.0 from https://files.pythonhosted.org/packages/33/47/fc483df0b7ddeee987b6ff146c879d3556fcea82cc9aa4203d16e5871c62/numpy-1.26.3-cp310-cp310-macosx_10_9_x86_64.whl.metadata\r\n",
      "  Using cached numpy-1.26.3-cp310-cp310-macosx_10_9_x86_64.whl.metadata (61 kB)\r\n",
      "Collecting orjson~=3.0 (from gradio)\r\n",
      "  Obtaining dependency information for orjson~=3.0 from https://files.pythonhosted.org/packages/3d/c5/6c9f6084c8b8e55b3af2e05cf0c656442dc0088135f2a9d034a1ef41895c/orjson-3.9.12-cp310-cp310-macosx_10_15_x86_64.macosx_11_0_arm64.macosx_10_15_universal2.whl.metadata\r\n",
      "  Using cached orjson-3.9.12-cp310-cp310-macosx_10_15_x86_64.macosx_11_0_arm64.macosx_10_15_universal2.whl.metadata (49 kB)\r\n",
      "Requirement already satisfied: packaging in ./.venv/lib/python3.10/site-packages (from gradio) (23.2)\r\n",
      "Collecting pillow<11.0,>=8.0 (from gradio)\r\n",
      "  Obtaining dependency information for pillow<11.0,>=8.0 from https://files.pythonhosted.org/packages/4a/92/a6eb4a8210d3597897ddf2d6af37898eb74e116bd2c6d2bcd9ac4080ebb5/pillow-10.2.0-cp310-cp310-macosx_10_10_x86_64.whl.metadata\r\n",
      "  Using cached pillow-10.2.0-cp310-cp310-macosx_10_10_x86_64.whl.metadata (9.7 kB)\r\n",
      "Collecting pydantic>=2.0 (from gradio)\r\n",
      "  Obtaining dependency information for pydantic>=2.0 from https://files.pythonhosted.org/packages/dd/b7/9aea7ee6c01fe3f3c03b8ca3c7797c866df5fecece9d6cb27caa138db2e2/pydantic-2.5.3-py3-none-any.whl.metadata\r\n",
      "  Using cached pydantic-2.5.3-py3-none-any.whl.metadata (65 kB)\r\n",
      "Collecting pydub (from gradio)\r\n",
      "  Using cached pydub-0.25.1-py2.py3-none-any.whl (32 kB)\r\n",
      "Collecting python-multipart (from gradio)\r\n",
      "  Using cached python_multipart-0.0.6-py3-none-any.whl (45 kB)\r\n",
      "Requirement already satisfied: pyyaml<7.0,>=5.0 in ./.venv/lib/python3.10/site-packages (from gradio) (6.0.1)\r\n",
      "Collecting ruff>=0.1.7 (from gradio)\r\n",
      "  Obtaining dependency information for ruff>=0.1.7 from https://files.pythonhosted.org/packages/60/f8/d579ca257d26a5e6cc309298698340720e52115774253a73946182f106fa/ruff-0.1.14-py3-none-macosx_10_12_x86_64.whl.metadata\r\n",
      "  Using cached ruff-0.1.14-py3-none-macosx_10_12_x86_64.whl.metadata (22 kB)\r\n",
      "Collecting semantic-version~=2.0 (from gradio)\r\n",
      "  Using cached semantic_version-2.10.0-py2.py3-none-any.whl (15 kB)\r\n",
      "Collecting tomlkit==0.12.0 (from gradio)\r\n",
      "  Obtaining dependency information for tomlkit==0.12.0 from https://files.pythonhosted.org/packages/68/4f/12207897848a653d03ebbf6775a29d949408ded5f99b2d87198bc5c93508/tomlkit-0.12.0-py3-none-any.whl.metadata\r\n",
      "  Using cached tomlkit-0.12.0-py3-none-any.whl.metadata (2.7 kB)\r\n",
      "Collecting typer[all]<1.0,>=0.9 (from gradio)\r\n",
      "  Using cached typer-0.9.0-py3-none-any.whl (45 kB)\r\n",
      "Requirement already satisfied: typing-extensions~=4.0 in ./.venv/lib/python3.10/site-packages (from gradio) (4.9.0)\r\n",
      "Collecting uvicorn>=0.14.0 (from gradio)\r\n",
      "  Obtaining dependency information for uvicorn>=0.14.0 from https://files.pythonhosted.org/packages/ec/00/2555ae5c4c8550ffccf8eea97476750bd1cfc0880b4b3ab7237dff4b01d7/uvicorn-0.27.0-py3-none-any.whl.metadata\r\n",
      "  Using cached uvicorn-0.27.0-py3-none-any.whl.metadata (6.4 kB)\r\n",
      "Collecting fsspec (from gradio-client==0.8.1->gradio)\r\n",
      "  Obtaining dependency information for fsspec from https://files.pythonhosted.org/packages/70/25/fab23259a52ece5670dcb8452e1af34b89e6135ecc17cd4b54b4b479eac6/fsspec-2023.12.2-py3-none-any.whl.metadata\r\n",
      "  Using cached fsspec-2023.12.2-py3-none-any.whl.metadata (6.8 kB)\r\n",
      "Collecting websockets<12.0,>=10.0 (from gradio-client==0.8.1->gradio)\r\n",
      "  Using cached websockets-11.0.3-cp310-cp310-macosx_10_9_x86_64.whl (120 kB)\r\n",
      "Requirement already satisfied: python-dateutil>=2.8.2 in ./.venv/lib/python3.10/site-packages (from pandas) (2.8.2)\r\n",
      "Collecting pytz>=2020.1 (from pandas)\r\n",
      "  Obtaining dependency information for pytz>=2020.1 from https://files.pythonhosted.org/packages/32/4d/aaf7eff5deb402fd9a24a1449a8119f00d74ae9c2efa79f8ef9994261fc2/pytz-2023.3.post1-py2.py3-none-any.whl.metadata\r\n",
      "  Using cached pytz-2023.3.post1-py2.py3-none-any.whl.metadata (22 kB)\r\n",
      "Collecting tzdata>=2022.7 (from pandas)\r\n",
      "  Obtaining dependency information for tzdata>=2022.7 from https://files.pythonhosted.org/packages/a3/fb/52b62131e21b24ee297e4e95ed41eba29647dad0e0051a92bb66b43c70ff/tzdata-2023.4-py2.py3-none-any.whl.metadata\r\n",
      "  Using cached tzdata-2023.4-py2.py3-none-any.whl.metadata (1.4 kB)\r\n",
      "Requirement already satisfied: jsonschema>=3.0 in ./.venv/lib/python3.10/site-packages (from altair<6.0,>=4.2.0->gradio) (4.21.1)\r\n",
      "Collecting toolz (from altair<6.0,>=4.2.0->gradio)\r\n",
      "  Obtaining dependency information for toolz from https://files.pythonhosted.org/packages/b7/8a/d82202c9f89eab30f9fc05380daae87d617e2ad11571ab23d7c13a29bb54/toolz-0.12.1-py3-none-any.whl.metadata\r\n",
      "  Using cached toolz-0.12.1-py3-none-any.whl.metadata (5.1 kB)\r\n",
      "Collecting filelock (from huggingface-hub>=0.19.3->gradio)\r\n",
      "  Obtaining dependency information for filelock from https://files.pythonhosted.org/packages/81/54/84d42a0bee35edba99dee7b59a8d4970eccdd44b99fe728ed912106fc781/filelock-3.13.1-py3-none-any.whl.metadata\r\n",
      "  Using cached filelock-3.13.1-py3-none-any.whl.metadata (2.8 kB)\r\n",
      "Requirement already satisfied: requests in ./.venv/lib/python3.10/site-packages (from huggingface-hub>=0.19.3->gradio) (2.31.0)\r\n",
      "Collecting tqdm>=4.42.1 (from huggingface-hub>=0.19.3->gradio)\r\n",
      "  Obtaining dependency information for tqdm>=4.42.1 from https://files.pythonhosted.org/packages/00/e5/f12a80907d0884e6dff9c16d0c0114d81b8cd07dc3ae54c5e962cc83037e/tqdm-4.66.1-py3-none-any.whl.metadata\r\n",
      "  Using cached tqdm-4.66.1-py3-none-any.whl.metadata (57 kB)\r\n",
      "Collecting contourpy>=1.0.1 (from matplotlib~=3.0->gradio)\r\n",
      "  Obtaining dependency information for contourpy>=1.0.1 from https://files.pythonhosted.org/packages/e8/ea/f6e90933d82cc5aacf52f886a1c01f47f96eba99108ca2929c7b3ef45f82/contourpy-1.2.0-cp310-cp310-macosx_10_9_x86_64.whl.metadata\r\n",
      "  Using cached contourpy-1.2.0-cp310-cp310-macosx_10_9_x86_64.whl.metadata (5.8 kB)\r\n",
      "Collecting cycler>=0.10 (from matplotlib~=3.0->gradio)\r\n",
      "  Obtaining dependency information for cycler>=0.10 from https://files.pythonhosted.org/packages/e7/05/c19819d5e3d95294a6f5947fb9b9629efb316b96de511b418c53d245aae6/cycler-0.12.1-py3-none-any.whl.metadata\r\n",
      "  Using cached cycler-0.12.1-py3-none-any.whl.metadata (3.8 kB)\r\n",
      "Collecting fonttools>=4.22.0 (from matplotlib~=3.0->gradio)\r\n",
      "  Obtaining dependency information for fonttools>=4.22.0 from https://files.pythonhosted.org/packages/9a/52/1a5e1373afb78a040ea0c371ab8a79da121060a8e518968bb8f41457ca90/fonttools-4.47.2-cp310-cp310-macosx_10_9_x86_64.whl.metadata\r\n",
      "  Using cached fonttools-4.47.2-cp310-cp310-macosx_10_9_x86_64.whl.metadata (157 kB)\r\n",
      "Collecting kiwisolver>=1.3.1 (from matplotlib~=3.0->gradio)\r\n",
      "  Obtaining dependency information for kiwisolver>=1.3.1 from https://files.pythonhosted.org/packages/0e/c1/d084f8edb26533a191415d5173157080837341f9a06af9dd1a75f727abb4/kiwisolver-1.4.5-cp310-cp310-macosx_10_9_x86_64.whl.metadata\r\n",
      "  Using cached kiwisolver-1.4.5-cp310-cp310-macosx_10_9_x86_64.whl.metadata (6.4 kB)\r\n",
      "Collecting pyparsing>=2.3.1 (from matplotlib~=3.0->gradio)\r\n",
      "  Obtaining dependency information for pyparsing>=2.3.1 from https://files.pythonhosted.org/packages/39/92/8486ede85fcc088f1b3dba4ce92dd29d126fd96b0008ea213167940a2475/pyparsing-3.1.1-py3-none-any.whl.metadata\r\n",
      "  Using cached pyparsing-3.1.1-py3-none-any.whl.metadata (5.1 kB)\r\n",
      "Collecting annotated-types>=0.4.0 (from pydantic>=2.0->gradio)\r\n",
      "  Obtaining dependency information for annotated-types>=0.4.0 from https://files.pythonhosted.org/packages/28/78/d31230046e58c207284c6b2c4e8d96e6d3cb4e52354721b944d3e1ee4aa5/annotated_types-0.6.0-py3-none-any.whl.metadata\r\n",
      "  Using cached annotated_types-0.6.0-py3-none-any.whl.metadata (12 kB)\r\n",
      "Collecting pydantic-core==2.14.6 (from pydantic>=2.0->gradio)\r\n",
      "  Obtaining dependency information for pydantic-core==2.14.6 from https://files.pythonhosted.org/packages/28/fc/bfb0da2b2d5b44e49c4c0ce99b07bbfd9f1a4dc92fd3e328a5cf1144467e/pydantic_core-2.14.6-cp310-cp310-macosx_10_7_x86_64.whl.metadata\r\n",
      "  Using cached pydantic_core-2.14.6-cp310-cp310-macosx_10_7_x86_64.whl.metadata (6.5 kB)\r\n",
      "Requirement already satisfied: six>=1.5 in ./.venv/lib/python3.10/site-packages (from python-dateutil>=2.8.2->pandas) (1.16.0)\r\n",
      "Collecting click<9.0.0,>=7.1.1 (from typer[all]<1.0,>=0.9->gradio)\r\n",
      "  Obtaining dependency information for click<9.0.0,>=7.1.1 from https://files.pythonhosted.org/packages/00/2e/d53fa4befbf2cfa713304affc7ca780ce4fc1fd8710527771b58311a3229/click-8.1.7-py3-none-any.whl.metadata\r\n",
      "  Using cached click-8.1.7-py3-none-any.whl.metadata (3.0 kB)\r\n",
      "Collecting colorama<0.5.0,>=0.4.3 (from typer[all]<1.0,>=0.9->gradio)\r\n",
      "  Using cached colorama-0.4.6-py2.py3-none-any.whl (25 kB)\r\n",
      "Collecting shellingham<2.0.0,>=1.3.0 (from typer[all]<1.0,>=0.9->gradio)\r\n",
      "  Obtaining dependency information for shellingham<2.0.0,>=1.3.0 from https://files.pythonhosted.org/packages/e0/f9/0595336914c5619e5f28a1fb793285925a8cd4b432c9da0a987836c7f822/shellingham-1.5.4-py2.py3-none-any.whl.metadata\r\n",
      "  Using cached shellingham-1.5.4-py2.py3-none-any.whl.metadata (3.5 kB)\r\n",
      "Collecting rich<14.0.0,>=10.11.0 (from typer[all]<1.0,>=0.9->gradio)\r\n",
      "  Obtaining dependency information for rich<14.0.0,>=10.11.0 from https://files.pythonhosted.org/packages/be/be/1520178fa01eabe014b16e72a952b9f900631142ccd03dc36cf93e30c1ce/rich-13.7.0-py3-none-any.whl.metadata\r\n",
      "  Using cached rich-13.7.0-py3-none-any.whl.metadata (18 kB)\r\n",
      "Collecting h11>=0.8 (from uvicorn>=0.14.0->gradio)\r\n",
      "  Using cached h11-0.14.0-py3-none-any.whl (58 kB)\r\n",
      "Collecting starlette<0.36.0,>=0.35.0 (from fastapi->gradio)\r\n",
      "  Obtaining dependency information for starlette<0.36.0,>=0.35.0 from https://files.pythonhosted.org/packages/03/13/c60c738da2fb69d60ee1dc5631e8d152352003cc0bc4ce39582bdd90e293/starlette-0.35.1-py3-none-any.whl.metadata\r\n",
      "  Using cached starlette-0.35.1-py3-none-any.whl.metadata (5.8 kB)\r\n",
      "Requirement already satisfied: anyio in ./.venv/lib/python3.10/site-packages (from httpx->gradio) (4.2.0)\r\n",
      "Requirement already satisfied: certifi in ./.venv/lib/python3.10/site-packages (from httpx->gradio) (2023.11.17)\r\n",
      "Collecting httpcore==1.* (from httpx->gradio)\r\n",
      "  Obtaining dependency information for httpcore==1.* from https://files.pythonhosted.org/packages/56/ba/78b0a99c4da0ff8b0f59defa2f13ca4668189b134bd9840b6202a93d9a0f/httpcore-1.0.2-py3-none-any.whl.metadata\r\n",
      "  Using cached httpcore-1.0.2-py3-none-any.whl.metadata (20 kB)\r\n",
      "Requirement already satisfied: idna in ./.venv/lib/python3.10/site-packages (from httpx->gradio) (3.6)\r\n",
      "Requirement already satisfied: sniffio in ./.venv/lib/python3.10/site-packages (from httpx->gradio) (1.3.0)\r\n",
      "Requirement already satisfied: attrs>=22.2.0 in ./.venv/lib/python3.10/site-packages (from jsonschema>=3.0->altair<6.0,>=4.2.0->gradio) (23.2.0)\r\n",
      "Requirement already satisfied: jsonschema-specifications>=2023.03.6 in ./.venv/lib/python3.10/site-packages (from jsonschema>=3.0->altair<6.0,>=4.2.0->gradio) (2023.12.1)\r\n",
      "Requirement already satisfied: referencing>=0.28.4 in ./.venv/lib/python3.10/site-packages (from jsonschema>=3.0->altair<6.0,>=4.2.0->gradio) (0.32.1)\r\n",
      "Requirement already satisfied: rpds-py>=0.7.1 in ./.venv/lib/python3.10/site-packages (from jsonschema>=3.0->altair<6.0,>=4.2.0->gradio) (0.17.1)\r\n",
      "Collecting markdown-it-py>=2.2.0 (from rich<14.0.0,>=10.11.0->typer[all]<1.0,>=0.9->gradio)\r\n",
      "  Obtaining dependency information for markdown-it-py>=2.2.0 from https://files.pythonhosted.org/packages/42/d7/1ec15b46af6af88f19b8e5ffea08fa375d433c998b8a7639e76935c14f1f/markdown_it_py-3.0.0-py3-none-any.whl.metadata\r\n",
      "  Using cached markdown_it_py-3.0.0-py3-none-any.whl.metadata (6.9 kB)\r\n",
      "Requirement already satisfied: pygments<3.0.0,>=2.13.0 in ./.venv/lib/python3.10/site-packages (from rich<14.0.0,>=10.11.0->typer[all]<1.0,>=0.9->gradio) (2.17.2)\r\n",
      "Requirement already satisfied: exceptiongroup>=1.0.2 in ./.venv/lib/python3.10/site-packages (from anyio->httpx->gradio) (1.2.0)\r\n",
      "Requirement already satisfied: charset-normalizer<4,>=2 in ./.venv/lib/python3.10/site-packages (from requests->huggingface-hub>=0.19.3->gradio) (3.3.2)\r\n",
      "Requirement already satisfied: urllib3<3,>=1.21.1 in ./.venv/lib/python3.10/site-packages (from requests->huggingface-hub>=0.19.3->gradio) (2.1.0)\r\n",
      "Collecting mdurl~=0.1 (from markdown-it-py>=2.2.0->rich<14.0.0,>=10.11.0->typer[all]<1.0,>=0.9->gradio)\r\n",
      "  Using cached mdurl-0.1.2-py3-none-any.whl (10.0 kB)\r\n",
      "Downloading gpudb-7.2.0.0b0-cp310-cp310-macosx_10_9_universal2.whl (533 kB)\r\n",
      "\u001B[2K   \u001B[90m━━━━━━━━━━━━━━━━━━━━━━━━━━━━━━━━━━━━━━━━\u001B[0m \u001B[32m533.8/533.8 kB\u001B[0m \u001B[31m5.4 MB/s\u001B[0m eta \u001B[36m0:00:00\u001B[0m00:01\u001B[0m00:01\u001B[0m\r\n",
      "\u001B[?25hDownloading gradio-4.16.0-py3-none-any.whl (16.7 MB)\r\n",
      "\u001B[2K   \u001B[90m━━━━━━━━━━━━━━━━━━━━━━━━━━━━━━━━━━━━━━━━\u001B[0m \u001B[32m16.7/16.7 MB\u001B[0m \u001B[31m18.6 MB/s\u001B[0m eta \u001B[36m0:00:00\u001B[0m00:01\u001B[0m00:01\u001B[0m\r\n",
      "\u001B[?25hUsing cached gradio_client-0.8.1-py3-none-any.whl (305 kB)\r\n",
      "Using cached tomlkit-0.12.0-py3-none-any.whl (37 kB)\r\n",
      "Using cached pandas-2.2.0-cp310-cp310-macosx_10_9_x86_64.whl (12.5 MB)\r\n",
      "Downloading pyarrow-15.0.0-cp310-cp310-macosx_10_15_x86_64.whl (27.1 MB)\r\n",
      "\u001B[2K   \u001B[90m━━━━━━━━━━━━━━━━━━━━━━━━━━━━━━━━━━━━━━━━\u001B[0m \u001B[32m27.1/27.1 MB\u001B[0m \u001B[31m27.4 MB/s\u001B[0m eta \u001B[36m0:00:00\u001B[0m00:01\u001B[0m00:01\u001B[0m\r\n",
      "\u001B[?25hUsing cached typeguard-4.1.5-py3-none-any.whl (34 kB)\r\n",
      "Using cached aiofiles-23.2.1-py3-none-any.whl (15 kB)\r\n",
      "Using cached altair-5.2.0-py3-none-any.whl (996 kB)\r\n",
      "Using cached huggingface_hub-0.20.3-py3-none-any.whl (330 kB)\r\n",
      "Using cached importlib_resources-6.1.1-py3-none-any.whl (33 kB)\r\n",
      "Using cached matplotlib-3.8.2-cp310-cp310-macosx_10_12_x86_64.whl (7.6 MB)\r\n",
      "Using cached numpy-1.26.3-cp310-cp310-macosx_10_9_x86_64.whl (20.6 MB)\r\n",
      "Using cached orjson-3.9.12-cp310-cp310-macosx_10_15_x86_64.macosx_11_0_arm64.macosx_10_15_universal2.whl (250 kB)\r\n",
      "Using cached pillow-10.2.0-cp310-cp310-macosx_10_10_x86_64.whl (3.5 MB)\r\n",
      "Using cached pydantic-2.5.3-py3-none-any.whl (381 kB)\r\n",
      "Using cached pydantic_core-2.14.6-cp310-cp310-macosx_10_7_x86_64.whl (1.9 MB)\r\n",
      "Using cached pytz-2023.3.post1-py2.py3-none-any.whl (502 kB)\r\n",
      "Using cached ruff-0.1.14-py3-none-macosx_10_12_x86_64.whl (7.3 MB)\r\n",
      "Using cached tzdata-2023.4-py2.py3-none-any.whl (346 kB)\r\n",
      "Using cached uvicorn-0.27.0-py3-none-any.whl (60 kB)\r\n",
      "Using cached fastapi-0.109.0-py3-none-any.whl (92 kB)\r\n",
      "Using cached httpx-0.26.0-py3-none-any.whl (75 kB)\r\n",
      "Using cached httpcore-1.0.2-py3-none-any.whl (76 kB)\r\n",
      "Using cached annotated_types-0.6.0-py3-none-any.whl (12 kB)\r\n",
      "Using cached click-8.1.7-py3-none-any.whl (97 kB)\r\n",
      "Using cached contourpy-1.2.0-cp310-cp310-macosx_10_9_x86_64.whl (256 kB)\r\n",
      "Using cached cycler-0.12.1-py3-none-any.whl (8.3 kB)\r\n",
      "Using cached fonttools-4.47.2-cp310-cp310-macosx_10_9_x86_64.whl (2.3 MB)\r\n",
      "Using cached fsspec-2023.12.2-py3-none-any.whl (168 kB)\r\n",
      "Using cached kiwisolver-1.4.5-cp310-cp310-macosx_10_9_x86_64.whl (68 kB)\r\n",
      "Using cached pyparsing-3.1.1-py3-none-any.whl (103 kB)\r\n",
      "Using cached rich-13.7.0-py3-none-any.whl (240 kB)\r\n",
      "Using cached shellingham-1.5.4-py2.py3-none-any.whl (9.8 kB)\r\n",
      "Using cached starlette-0.35.1-py3-none-any.whl (71 kB)\r\n",
      "Using cached tqdm-4.66.1-py3-none-any.whl (78 kB)\r\n",
      "Using cached filelock-3.13.1-py3-none-any.whl (11 kB)\r\n",
      "Using cached toolz-0.12.1-py3-none-any.whl (56 kB)\r\n",
      "Using cached markdown_it_py-3.0.0-py3-none-any.whl (87 kB)\r\n",
      "Installing collected packages: pytz, pydub, pycatch22, ffmpy, websockets, tzdata, typeguard, tqdm, toolz, tomlkit, shellingham, semantic-version, ruff, python-multipart, pyparsing, pydantic-core, pillow, orjson, numpy, mdurl, kiwisolver, importlib-resources, h11, future, fsspec, fonttools, filelock, cycler, colorama, click, annotated-types, aiofiles, uvicorn, typer, starlette, pydantic, pyarrow, pandas, markdown-it-py, huggingface-hub, httpcore, gpudb, contourpy, rich, matplotlib, httpx, fastapi, gradio-client, altair, gradio\r\n",
      "Successfully installed aiofiles-23.2.1 altair-5.2.0 annotated-types-0.6.0 click-8.1.7 colorama-0.4.6 contourpy-1.2.0 cycler-0.12.1 fastapi-0.109.0 ffmpy-0.3.1 filelock-3.13.1 fonttools-4.47.2 fsspec-2023.12.2 future-0.18.3 gpudb-7.2.0.0b0 gradio-4.16.0 gradio-client-0.8.1 h11-0.14.0 httpcore-1.0.2 httpx-0.26.0 huggingface-hub-0.20.3 importlib-resources-6.1.1 kiwisolver-1.4.5 markdown-it-py-3.0.0 matplotlib-3.8.2 mdurl-0.1.2 numpy-1.26.3 orjson-3.9.12 pandas-2.2.0 pillow-10.2.0 pyarrow-15.0.0 pycatch22-0.4.4 pydantic-2.5.3 pydantic-core-2.14.6 pydub-0.25.1 pyparsing-3.1.1 python-multipart-0.0.6 pytz-2023.3.post1 rich-13.7.0 ruff-0.1.14 semantic-version-2.10.0 shellingham-1.5.4 starlette-0.35.1 tomlkit-0.12.0 toolz-0.12.1 tqdm-4.66.1 typeguard-4.1.5 typer-0.9.0 tzdata-2023.4 uvicorn-0.27.0 websockets-11.0.3\r\n",
      "\r\n",
      "\u001B[1m[\u001B[0m\u001B[34;49mnotice\u001B[0m\u001B[1;39;49m]\u001B[0m\u001B[39;49m A new release of pip is available: \u001B[0m\u001B[31;49m23.2.1\u001B[0m\u001B[39;49m -> \u001B[0m\u001B[32;49m23.3.2\u001B[0m\r\n",
      "\u001B[1m[\u001B[0m\u001B[34;49mnotice\u001B[0m\u001B[1;39;49m]\u001B[0m\u001B[39;49m To update, run: \u001B[0m\u001B[32;49mpip install --upgrade pip\u001B[0m\r\n",
      "Note: you may need to restart the kernel to use updated packages.\n"
     ]
    }
   ],
   "source": [
    "pip install gpudb==7.2.0.0b0 pycatch22 pandas pyarrow typeguard"
   ],
   "metadata": {
    "collapsed": true,
    "ExecuteTime": {
     "end_time": "2024-01-26T17:30:12.783866Z",
     "start_time": "2024-01-26T17:29:27.155155Z"
    }
   },
   "id": "initial_id",
   "execution_count": 1
  },
  {
   "cell_type": "code",
   "outputs": [],
   "source": [
    "import pycatch22\n",
    "import gpudb\n",
    "import json\n",
    "import math"
   ],
   "metadata": {
    "collapsed": false,
    "ExecuteTime": {
     "end_time": "2024-01-26T19:12:18.133847Z",
     "start_time": "2024-01-26T19:12:09.879271Z"
    }
   },
   "id": "6f475e1b627e627d",
   "execution_count": 12
  },
  {
   "cell_type": "markdown",
   "source": [
    "Let's define our time-series vector embedding algorithms to use from the catch22 library [here](https://time-series-features.gitbook.io/catch22-features/).  Essentially, the idea is to use a variety of algorithms to represent our sensor data such that we can identify similar sensor data segments."
   ],
   "metadata": {
    "collapsed": false
   },
   "id": "5a5e8cfa95852217"
  },
  {
   "cell_type": "code",
   "outputs": [],
   "source": [
    "def c22(ts_data: list) -> list:\n",
    "    timeseries = [pycatch22.CO_f1ecac(ts_data),\n",
    "                  pycatch22.CO_trev_1_num(ts_data),\n",
    "                  pycatch22.CO_FirstMin_ac(ts_data),\n",
    "                  pycatch22.CO_HistogramAMI_even_2_5(ts_data),\n",
    "                  pycatch22.DN_Mean(ts_data),\n",
    "                  pycatch22.DN_Spread_Std(ts_data),\n",
    "                  pycatch22.DN_HistogramMode_5(ts_data),\n",
    "                  pycatch22.DN_HistogramMode_10(ts_data),\n",
    "                  pycatch22.DN_OutlierInclude_n_001_mdrmd(ts_data),\n",
    "                  pycatch22.SB_BinaryStats_diff_longstretch0(ts_data),\n",
    "                  pycatch22.SB_BinaryStats_mean_longstretch1(ts_data),\n",
    "                  pycatch22.SB_MotifThree_quantile_hh(ts_data),\n",
    "                  pycatch22.SB_TransitionMatrix_3ac_sumdiagcov(ts_data),\n",
    "                  pycatch22.SC_FluctAnal_2_dfa_50_1_2_logi_prop_r1(ts_data),\n",
    "                  pycatch22.SC_FluctAnal_2_rsrangefit_50_1_logi_prop_r1(ts_data),\n",
    "                  pycatch22.SP_Summaries_welch_rect_area_5_1(ts_data),\n",
    "                  pycatch22.SP_Summaries_welch_rect_centroid(ts_data),\n",
    "                  pycatch22.FC_LocalSimple_mean1_tauresrat(ts_data),\n",
    "                  pycatch22.FC_LocalSimple_mean3_stderr(ts_data),\n",
    "                  pycatch22.IN_AutoMutualInfoStats_40_gaussian_fmmi(ts_data),\n",
    "                  pycatch22.MD_hrv_classic_pnn40(ts_data),\n",
    "                  pycatch22.PD_PeriodicityWang_th0_01(ts_data)]\n",
    "\n",
    "    return timeseries"
   ],
   "metadata": {
    "collapsed": false,
    "ExecuteTime": {
     "end_time": "2024-01-26T17:37:30.378Z",
     "start_time": "2024-01-26T17:37:30.374669Z"
    }
   },
   "id": "f90c5e62618fa5df",
   "execution_count": 4
  },
  {
   "cell_type": "markdown",
   "source": [
    "Let's connect to our Kinetica database"
   ],
   "metadata": {
    "collapsed": false
   },
   "id": "fc32495dde042adf"
  },
  {
   "cell_type": "code",
   "outputs": [],
   "source": [
    "db = gpudb.GPUdb(host='https://demo72.kinetica.com/_gpudb',\n",
    "                 username='',\n",
    "                 password='')"
   ],
   "metadata": {
    "collapsed": false,
    "ExecuteTime": {
     "end_time": "2024-01-26T17:46:31.664167Z",
     "start_time": "2024-01-26T17:46:31.437681Z"
    }
   },
   "id": "62c39fdcbf817fb5",
   "execution_count": 7
  },
  {
   "cell_type": "markdown",
   "source": [
    "Now, we need to create our table to store our vector embeddings using the Kinetica API"
   ],
   "metadata": {
    "collapsed": false
   },
   "id": "65efc17ace3f4cd7"
  },
  {
   "cell_type": "code",
   "outputs": [],
   "source": [
    "if db.has_table(\"raceday.vectors\")[\"table_exists\"]:\n",
    "    db.clear_table(table_name=\"raceday.vectors\")\n",
    "\n",
    "schema = [\n",
    "    [\"ts_bkt\", \"string\", \"datetime\"],\n",
    "    [\"TireSlipRatioFl_Vec\", \"bytes\", \"vector(22)\"],\n",
    "    [\"TireSlipRatioFr_Vec\", \"bytes\", \"vector(22)\"],\n",
    "    [\"TireSlipRatioRl_Vec\", \"bytes\", \"vector(22)\"],\n",
    "    [\"TireSlipRatioRr_Vec\", \"bytes\", \"vector(22)\"],\n",
    "    [\"AccelerationX_Vec\", \"bytes\", \"vector(22)\"],\n",
    "    [\"AccelerationY_Vec\", \"bytes\", \"vector(22)\"],\n",
    "    [\"AccelerationZ_Vec\", \"bytes\", \"vector(22)\"],\n",
    "    [\"VelocityX_Vec\", \"bytes\", \"vector(22)\"],\n",
    "    [\"VelocityY_Vec\", \"bytes\", \"vector(22)\"],\n",
    "    [\"VelocityZ_Vec\", \"bytes\", \"vector(22)\"],\n",
    "    [\"CombinedRace_Vec\", \"bytes\", \"vector(220)\"]\n",
    "]\n",
    "\n",
    "tableObj = gpudb.GPUdbTable(\n",
    "    _type=schema,\n",
    "    name=\"raceday.vectors\",\n",
    "    use_multihead_io=True,\n",
    "    multihead_ingest_batch_size=5000,\n",
    "    db=db\n",
    ")"
   ],
   "metadata": {
    "collapsed": false,
    "ExecuteTime": {
     "end_time": "2024-01-26T18:12:22.164934Z",
     "start_time": "2024-01-26T18:12:21.779660Z"
    }
   },
   "id": "945997fa3737affe",
   "execution_count": 10
  },
  {
   "cell_type": "markdown",
   "source": [
    "Now that we have created our vector table, we need to loop through all the time-series data, convert to our 22-dimensional vector embedding space, then insert into Kinetica"
   ],
   "metadata": {
    "collapsed": false
   },
   "id": "3c847c583e781c37"
  },
  {
   "cell_type": "code",
   "outputs": [],
   "source": [
    "has_more = True\n",
    "offset = 0\n",
    "while has_more:\n",
    "    result = None\n",
    "    try:\n",
    "        result = db.execute_sql('''select\n",
    "       time_bucket(interval 5 second, timestamp) as ts_bkt,\n",
    "       TireSlipRatioFl,\n",
    "       TireSlipRatioFr,\n",
    "       TireSlipRatioRl,\n",
    "       TireSlipRatioRr,\n",
    "       AccelerationX,\n",
    "       AccelerationY,\n",
    "       AccelerationZ,\n",
    "       VelocityX,\n",
    "       VelocityY,\n",
    "       VelocityZ\n",
    "    from\n",
    "        raceday.dash1''',\n",
    "                                encoding='json',\n",
    "                                offset=offset)\n",
    "\n",
    "    except gpudb.GPUdbException as gpudberror:\n",
    "        print(str(gpudberror))\n",
    "        \n",
    "    if result is not None:\n",
    "        j = json.loads(result.json_encoded_response)\n",
    "        flat_result = {}\n",
    "        count = 0\n",
    "\n",
    "        has_more = result.has_more_records\n",
    "        offset += len(j['column_1'])\n",
    "        \n",
    "        for count in range(0, len(j['column_1'])):\n",
    "            if j['column_1'][count] not in flat_result:\n",
    "                flat_result[j['column_1'][count]] = {\n",
    "                    'TireSlipRatioFl_Vec': [],\n",
    "                    'TireSlipRatioFr_Vec': [],\n",
    "                    'TireSlipRatioRl_Vec': [],\n",
    "                    'TireSlipRatioRr_Vec': [],\n",
    "                    'AccelerationX_Vec':   [],\n",
    "                    'AccelerationY_Vec':   [],\n",
    "                    'AccelerationZ_Vec':   [],\n",
    "                    'VelocityX_Vec':       [],\n",
    "                    'VelocityY_Vec':       [],\n",
    "                    'VelocityZ_Vec':       [],\n",
    "                    'CombinedRace_Vec':    []\n",
    "                }\n",
    "\n",
    "            flat_result[j['column_1'][count]]['TireSlipRatioFl_Vec'].append(j['column_2'][count])\n",
    "            flat_result[j['column_1'][count]]['TireSlipRatioFr_Vec'].append(j['column_3'][count])\n",
    "            flat_result[j['column_1'][count]]['TireSlipRatioRl_Vec'].append(j['column_4'][count])\n",
    "            flat_result[j['column_1'][count]]['TireSlipRatioRr_Vec'].append(j['column_5'][count])\n",
    "            flat_result[j['column_1'][count]]['AccelerationX_Vec'].append(j['column_6'][count])\n",
    "            flat_result[j['column_1'][count]]['AccelerationY_Vec'].append(j['column_7'][count])\n",
    "            flat_result[j['column_1'][count]]['AccelerationZ_Vec'].append(j['column_8'][count])\n",
    "            flat_result[j['column_1'][count]]['VelocityX_Vec'].append(j['column_9'][count])\n",
    "            flat_result[j['column_1'][count]]['VelocityY_Vec'].append(j['column_10'][count])\n",
    "            flat_result[j['column_1'][count]]['VelocityZ_Vec'].append(j['column_11'][count])\n",
    "            \n",
    "        for key, value in flat_result.items():\n",
    "            for k2, v2 in value.items():\n",
    "                if k2 != 'CombinedRace_Vec':\n",
    "                    vec = c22(v2)\n",
    "                    vec = [0 if math.isnan(x) else x for x in vec]\n",
    "                    flat_result[key][k2] = vec\n",
    "                    flat_result[key]['CombinedRace_Vec'].extend(vec)\n",
    "                    \n",
    "        for key, value in flat_result.items():\n",
    "            json_record = json.dumps({'ts_bkt':              key,\n",
    "                                      'TireSlipRatioFl_Vec': value['TireSlipRatioFl_Vec'],\n",
    "                                      'TireSlipRatioFr_Vec': value['TireSlipRatioFr_Vec'],\n",
    "                                      'TireSlipRatioRl_Vec': value['TireSlipRatioRl_Vec'],\n",
    "                                      'TireSlipRatioRr_Vec': value['TireSlipRatioRr_Vec'],\n",
    "                                      'AccelerationX_Vec':   value['AccelerationX_Vec'],\n",
    "                                      'AccelerationY_Vec':   value['AccelerationY_Vec'],\n",
    "                                      'AccelerationZ_Vec':   value['AccelerationZ_Vec'],\n",
    "                                      'VelocityX_Vec':       value['VelocityX_Vec'],\n",
    "                                      'VelocityY_Vec':       value['VelocityY_Vec'],\n",
    "                                      'VelocityZ_Vec':       value['VelocityZ_Vec'],\n",
    "                                      'CombinedRace_Vec':    value['CombinedRace_Vec']\n",
    "                                      })\n",
    "            response = db.insert_records_from_json(\n",
    "                table_name='raceday.vectors',\n",
    "                json_records=json_record)\n",
    "tableObj.flush_data_to_server()"
   ],
   "metadata": {
    "collapsed": false,
    "ExecuteTime": {
     "end_time": "2024-01-26T19:07:46.554661Z",
     "start_time": "2024-01-26T19:07:15.794630Z"
    }
   },
   "id": "c3c6eb4d9be3928f",
   "execution_count": 11
  },
  {
   "cell_type": "markdown",
   "source": [
    "# Kinetica LLM interactions\n",
    "Here we will set up our LLM context.  Consider adding or removing rules and/or samples to see what the effect will be on the resulting SQL query results:\n",
    "- high velocity turns have a Velocity along the Y axis of greater than 1.6\n",
    "- straightaways have an Acceleration along the X axis of greater than 5"
   ],
   "metadata": {
    "collapsed": false
   },
   "id": "b6aceac341e812ef"
  },
  {
   "cell_type": "code",
   "outputs": [
    {
     "name": "stdout",
     "output_type": "stream",
     "text": [
      "OK\n"
     ]
    }
   ],
   "source": [
    "sqlcontext = '''\n",
    "CREATE OR REPLACE CONTEXT raceday.raceday_ui_ctxt\n",
    " (\n",
    "     TABLE = raceday.dash1,\n",
    "     RULES = (\n",
    "         'crashes are likely when tire slip ratio is lower than -0.4 and acceleration along the X axis is less than 0 and velocity along the Y axis is lower than 0', \n",
    "         'to retrieve videos use an asof join between the raceday.dash1 timestamp column and raceday.videos ts column with a tolerance of 0 seconds before the event and 5 seconds after making the minimum match',\n",
    "         'when I use the word \"distinct\" when asking for videos I mean to use the distinct sql function',\n",
    "         'when I say \"show me 1\", I want you to add a \"LIMIT 1 to the query\"',\n",
    "         'when I ask for 1 video, make sure that the you use the distinct function'),\n",
    "     COMMENTS = (\n",
    "         'EngineMaxRpm' = 'this is the maximum engine RPM',\n",
    "         'timestamp' = 'this is the timestamp column'\n",
    "     )\n",
    "),\n",
    "(\n",
    "    TABLE = raceday.videos\n",
    "),\n",
    "(\n",
    "    SAMPLES = (\n",
    "        'show me videos similar to https://kinetica-raceday.s3.amazonaws.com/raceday1/forza_images/output-2-15.mp4' = 'with crashvid as (\n",
    "    select * from raceday.videos where videopath = ''https://kinetica-raceday.s3.amazonaws.com/raceday1/forza_images/output-2-15.mp4''\n",
    "),\n",
    "query_vector as (\n",
    "    select\n",
    "    *\n",
    "    from\n",
    "        crashvid vid\n",
    "        join raceday.vectors vec\n",
    "        on asof(vid.ts, vec.ts_bkt, interval ''0'' seconds, interval ''5'' seconds, min)\n",
    "),\n",
    "vec_similar as (\n",
    "    SELECT\n",
    "        ts_bkt,\n",
    "        cosine_distance(VelocityX_Vec,(select string(VelocityX_Vec) from query_vector)) as d1\n",
    "    FROM\n",
    "        raceday.vectors\n",
    "    ORDER BY\n",
    "        d1\n",
    "    LIMIT\n",
    "        5\n",
    ")\n",
    "\n",
    "select *\n",
    "from\n",
    "    raceday.videos vid\n",
    "    join (select * from vec_similar) vec_s\n",
    "    on asof(vid.ts, vec_s.ts_bkt, interval ''0'' seconds, interval ''5'' seconds, min)\n",
    "order by d1'\n",
    "    )\n",
    ")\n",
    "'''\n",
    "response = db.execute_sql(sqlcontext)\n",
    "print(response['status_info']['status'])"
   ],
   "metadata": {
    "collapsed": false,
    "ExecuteTime": {
     "end_time": "2024-01-29T16:46:42.572265Z",
     "start_time": "2024-01-29T16:46:42.496076Z"
    }
   },
   "id": "5d1fb0f50556a568",
   "execution_count": 51
  },
  {
   "cell_type": "markdown",
   "source": [
    "Now we can send our question to the LLM via SQL api\n",
    "\n",
    "Some questions to ask:\n",
    "- what is the average current engine RPM when acceleration along the X axis is between 0 and 1.5\n",
    "- show a video where a crash is likely to occur\n",
    "- show a video along a straightaway\n",
    "- show me videos similar to https://kinetica-raceday.s3.amazonaws.com/raceday1/forza_images/output-2-15.mp4"
   ],
   "metadata": {
    "collapsed": false
   },
   "id": "a21b96c6384b2b5a"
  },
  {
   "cell_type": "code",
   "outputs": [
    {
     "name": "stdout",
     "output_type": "stream",
     "text": [
      "SELECT\n",
      "    v.videopath\n",
      "FROM\n",
      "    raceday.videos v\n",
      "    JOIN raceday.dash1 d\n",
      "    ON asof(v.ts, d.timestamp, interval '0' seconds, interval '5' seconds, min)\n",
      "WHERE\n",
      "    d.TireSlipRatioFl < -0.4\n",
      "    AND d.AccelerationX < 0\n",
      "    AND d.VelocityY < 0\n",
      "ORDER BY\n",
      "    v.ts\n",
      "LIMIT\n",
      "    1;\n"
     ]
    }
   ],
   "source": [
    "question = '''show me videos where a crash is likely to occur'''\n",
    "sql = f'''GENERATE SQL FOR '{question}' WITH OPTIONS (context_name = 'raceday.raceday_ui_ctxt');'''\n",
    "response = db.execute_sql(sql, encoding='json')\n",
    "newQuery = None\n",
    "if response['status_info']['status'] == 'OK':\n",
    "    newQuery = json.loads(response['json_encoded_response'])['column_1'][0]\n",
    "    print(json.loads(response['json_encoded_response'])['column_1'][0])\n",
    "\n",
    "else:\n",
    "    print(\"BAD RESPONSE, Try a different question or adjust your SQL Context\")"
   ],
   "metadata": {
    "collapsed": false,
    "ExecuteTime": {
     "end_time": "2024-01-29T16:47:44.661086Z",
     "start_time": "2024-01-29T16:47:33.066716Z"
    }
   },
   "id": "32013834a738f8e9",
   "execution_count": 52
  },
  {
   "cell_type": "code",
   "outputs": [
    {
     "name": "stdout",
     "output_type": "stream",
     "text": [
      "                                           videopath\n",
      "0  https://kinetica-raceday.s3.amazonaws.com/race...\n"
     ]
    }
   ],
   "source": [
    "if newQuery is not None:\n",
    "    df = db.to_df(newQuery)\n",
    "    print(df)"
   ],
   "metadata": {
    "collapsed": false,
    "ExecuteTime": {
     "end_time": "2024-01-29T16:48:22.872148Z",
     "start_time": "2024-01-29T16:48:22.635586Z"
    }
   },
   "id": "d7501914dc321110",
   "execution_count": 54
  }
 ],
 "metadata": {
  "kernelspec": {
   "display_name": "Python 3",
   "language": "python",
   "name": "python3"
  },
  "language_info": {
   "codemirror_mode": {
    "name": "ipython",
    "version": 2
   },
   "file_extension": ".py",
   "mimetype": "text/x-python",
   "name": "python",
   "nbconvert_exporter": "python",
   "pygments_lexer": "ipython2",
   "version": "2.7.6"
  }
 },
 "nbformat": 4,
 "nbformat_minor": 5
}
